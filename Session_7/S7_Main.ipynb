{
  "nbformat": 4,
  "nbformat_minor": 0,
  "metadata": {
    "colab": {
      "name": "S7_Main.ipynb",
      "provenance": [],
      "collapsed_sections": []
    },
    "kernelspec": {
      "name": "python3",
      "display_name": "Python 3"
    },
    "accelerator": "GPU"
  },
  "cells": [
    {
      "cell_type": "code",
      "metadata": {
        "id": "Yz5oU3t4zk91",
        "colab_type": "code",
        "colab": {
          "base_uri": "https://localhost:8080/",
          "height": 51
        },
        "outputId": "5dfdc8f1-2087-45fb-c6db-d444994fa408"
      },
      "source": [
        "from google.colab import drive\n",
        "drive.mount('/content/gdrive')\n",
        "my_path = \"/content/gdrive/My Drive/ColabNotebooks/EVA4\"\n",
        "\n",
        "import sys\n",
        "sys.path.append(my_path)\n",
        "!ls /content/gdrive/My\\ Drive/ColabNotebooks/EVA4"
      ],
      "execution_count": 3,
      "outputs": [
        {
          "output_type": "stream",
          "text": [
            "Drive already mounted at /content/gdrive; to attempt to forcibly remount, call drive.mount(\"/content/gdrive\", force_remount=True).\n",
            "dataloader.py  display.py  dnn.py  evaluation.py  __pycache__  training.py\n"
          ],
          "name": "stdout"
        }
      ]
    },
    {
      "cell_type": "code",
      "metadata": {
        "id": "MDSP9d784ScC",
        "colab_type": "code",
        "colab": {
          "base_uri": "https://localhost:8080/",
          "height": 34
        },
        "outputId": "2a001457-a373-43d6-9ae9-4e88ab75caa1"
      },
      "source": [
        "%matplotlib inline\n",
        "import torch\n",
        "import dataloader\n",
        "import display\n",
        "import dnn\n",
        "import training\n",
        "import evaluation\n",
        "\n",
        "!pip install torchsummary\n",
        "from torchsummary import summary"
      ],
      "execution_count": 4,
      "outputs": [
        {
          "output_type": "stream",
          "text": [
            "Requirement already satisfied: torchsummary in /usr/local/lib/python3.6/dist-packages (1.5.1)\n"
          ],
          "name": "stdout"
        }
      ]
    },
    {
      "cell_type": "code",
      "metadata": {
        "id": "nTudAHse58uZ",
        "colab_type": "code",
        "colab": {}
      },
      "source": [
        "classes = ('plane', 'car', 'bird', 'cat', 'deer', 'dog', 'frog', 'horse', 'ship', 'truck')\n",
        "\n",
        "SEED = 22\n",
        "batch_size=128\n",
        "\n",
        "# CUDA?\n",
        "cuda = torch.cuda.is_available()\n",
        "\n",
        "# For reproducibility\n",
        "torch.manual_seed(SEED)\n",
        "\n",
        "if cuda:\n",
        "    torch.cuda.manual_seed(SEED)"
      ],
      "execution_count": 0,
      "outputs": []
    },
    {
      "cell_type": "code",
      "metadata": {
        "id": "QF0WaFop7_St",
        "colab_type": "code",
        "colab": {
          "base_uri": "https://localhost:8080/",
          "height": 68
        },
        "outputId": "338e941f-34eb-4e66-979b-ba557ee7a247"
      },
      "source": [
        "train_loader, test_loader = dataloader.get_dataloader(batch_size=batch_size, num_workers=4)"
      ],
      "execution_count": 7,
      "outputs": [
        {
          "output_type": "stream",
          "text": [
            "CUDA Available? True\n",
            "Files already downloaded and verified\n",
            "Files already downloaded and verified\n"
          ],
          "name": "stdout"
        }
      ]
    },
    {
      "cell_type": "code",
      "metadata": {
        "id": "JIx1mWJk9u5r",
        "colab_type": "code",
        "colab": {
          "base_uri": "https://localhost:8080/",
          "height": 172
        },
        "outputId": "a874b915-752f-4075-9a9a-c4a23ae266e3"
      },
      "source": [
        "display.show_random_images(train_loader, classes)"
      ],
      "execution_count": 8,
      "outputs": [
        {
          "output_type": "stream",
          "text": [
            "Clipping input data to the valid range for imshow with RGB data ([0..1] for floats or [0..255] for integers).\n"
          ],
          "name": "stderr"
        },
        {
          "output_type": "stream",
          "text": [
            "shape: torch.Size([128, 3, 32, 32])\n",
            "  cat   car   cat  deer   car\n"
          ],
          "name": "stdout"
        },
        {
          "output_type": "display_data",
          "data": {
            "image/png": "[encoded data removed]",
            "text/plain": [
              "<Figure size 432x288 with 1 Axes>"
            ]
          },
          "metadata": {
            "tags": []
          }
        }
      ]
    },
    {
      "cell_type": "code",
      "metadata": {
        "id": "fbNecUT_Axj8",
        "colab_type": "code",
        "colab": {
          "base_uri": "https://localhost:8080/",
          "height": 1000
        },
        "outputId": "8146e77d-317e-43ef-fe32-e05ba7ad7c27"
      },
      "source": [
        "!pip install torchsummary\n",
        "from torchsummary import summary\n",
        "use_cuda = torch.cuda.is_available()\n",
        "device = torch.device(\"cuda\" if use_cuda else \"cpu\")\n",
        "print(device)\n",
        "model = dnn.Net().to(device)\n",
        "summary(model, input_size=(3, 32, 32))"
      ],
      "execution_count": 9,
      "outputs": [
        {
          "output_type": "stream",
          "text": [
            "Requirement already satisfied: torchsummary in /usr/local/lib/python3.6/dist-packages (1.5.1)\n",
            "cuda\n",
            "----------------------------------------------------------------\n",
            "        Layer (type)               Output Shape         Param #\n",
            "================================================================\n",
            "            Conv2d-1           [-1, 16, 32, 32]             448\n",
            "       BatchNorm2d-2           [-1, 16, 32, 32]              32\n",
            "              ReLU-3           [-1, 16, 32, 32]               0\n",
            "           Dropout-4           [-1, 16, 32, 32]               0\n",
            "            Conv2d-5           [-1, 32, 32, 32]           4,640\n",
            "       BatchNorm2d-6           [-1, 32, 32, 32]              64\n",
            "              ReLU-7           [-1, 32, 32, 32]               0\n",
            "           Dropout-8           [-1, 32, 32, 32]               0\n",
            "         MaxPool2d-9           [-1, 32, 16, 16]               0\n",
            "           Conv2d-10           [-1, 64, 16, 16]          18,496\n",
            "      BatchNorm2d-11           [-1, 64, 16, 16]             128\n",
            "             ReLU-12           [-1, 64, 16, 16]               0\n",
            "          Dropout-13           [-1, 64, 16, 16]               0\n",
            "           Conv2d-14          [-1, 128, 14, 14]          73,856\n",
            "      BatchNorm2d-15          [-1, 128, 14, 14]             256\n",
            "             ReLU-16          [-1, 128, 14, 14]               0\n",
            "          Dropout-17          [-1, 128, 14, 14]               0\n",
            "        MaxPool2d-18            [-1, 128, 7, 7]               0\n",
            "           Conv2d-19             [-1, 64, 7, 7]           8,256\n",
            "      BatchNorm2d-20             [-1, 64, 7, 7]             128\n",
            "             ReLU-21             [-1, 64, 7, 7]               0\n",
            "           Conv2d-22            [-1, 128, 7, 7]          73,856\n",
            "      BatchNorm2d-23            [-1, 128, 7, 7]             256\n",
            "             ReLU-24            [-1, 128, 7, 7]               0\n",
            "          Dropout-25            [-1, 128, 7, 7]               0\n",
            "           Conv2d-26            [-1, 256, 7, 7]         295,168\n",
            "      BatchNorm2d-27            [-1, 256, 7, 7]             512\n",
            "             ReLU-28            [-1, 256, 7, 7]               0\n",
            "          Dropout-29            [-1, 256, 7, 7]               0\n",
            "        MaxPool2d-30            [-1, 256, 3, 3]               0\n",
            "           Conv2d-31             [-1, 64, 3, 3]          16,448\n",
            "      BatchNorm2d-32             [-1, 64, 3, 3]             128\n",
            "             ReLU-33             [-1, 64, 3, 3]               0\n",
            "           Conv2d-34            [-1, 128, 3, 3]          73,856\n",
            "      BatchNorm2d-35            [-1, 128, 3, 3]             256\n",
            "             ReLU-36            [-1, 128, 3, 3]               0\n",
            "          Dropout-37            [-1, 128, 3, 3]               0\n",
            "           Conv2d-38            [-1, 128, 3, 3]           1,280\n",
            "           Conv2d-39            [-1, 256, 3, 3]          33,024\n",
            "      BatchNorm2d-40            [-1, 256, 3, 3]             512\n",
            "             ReLU-41            [-1, 256, 3, 3]               0\n",
            "          Dropout-42            [-1, 256, 3, 3]               0\n",
            "           Conv2d-43             [-1, 10, 3, 3]           2,570\n",
            "      BatchNorm2d-44             [-1, 10, 3, 3]              20\n",
            "             ReLU-45             [-1, 10, 3, 3]               0\n",
            "        AvgPool2d-46             [-1, 10, 1, 1]               0\n",
            "================================================================\n",
            "Total params: 604,190\n",
            "Trainable params: 604,190\n",
            "Non-trainable params: 0\n",
            "----------------------------------------------------------------\n",
            "Input size (MB): 0.01\n",
            "Forward/backward pass size (MB): 3.67\n",
            "Params size (MB): 2.30\n",
            "Estimated Total Size (MB): 5.99\n",
            "----------------------------------------------------------------\n"
          ],
          "name": "stdout"
        }
      ]
    },
    {
      "cell_type": "code",
      "metadata": {
        "id": "xxVU7gatsdwB",
        "colab_type": "code",
        "colab": {}
      },
      "source": [
        "import torch.nn as nn\n",
        "import torch.optim as optim\n",
        "from torch.optim.lr_scheduler import StepLR\n",
        "\n",
        "criterion = nn.CrossEntropyLoss()\n",
        "optimizer = optim.SGD(model.parameters(), lr=0.001, momentum=0.9)\n",
        "scheduler = StepLR(optimizer, step_size=10, gamma=0.1)"
      ],
      "execution_count": 0,
      "outputs": []
    },
    {
      "cell_type": "code",
      "metadata": {
        "id": "YaRplw7ltSel",
        "colab_type": "code",
        "outputId": "8aac1d2c-d2a4-4a12-9a4e-2383aba6e489",
        "colab": {
          "base_uri": "https://localhost:8080/",
          "height": 1000
        }
      },
      "source": [
        "EPOCHS = 20\n",
        "for epoch in range(EPOCHS):\n",
        "    print(\"EPOCH:\", epoch+1)\n",
        "    training.train_model(model, device, train_loader, optimizer, criterion, epoch)\n",
        "    training.test_model(model, device, criterion, test_loader)"
      ],
      "execution_count": 12,
      "outputs": [
        {
          "output_type": "stream",
          "text": [
            "\r  0%|          | 0/391 [00:00<?, ?it/s]"
          ],
          "name": "stderr"
        },
        {
          "output_type": "stream",
          "text": [
            "EPOCH: 1\n"
          ],
          "name": "stdout"
        },
        {
          "output_type": "stream",
          "text": [
            "Loss=0.5114684104919434 Batch_id=390 Accuracy=77.60: 100%|██████████| 391/391 [00:15<00:00, 24.72it/s]\n",
            "  0%|          | 0/391 [00:00<?, ?it/s]"
          ],
          "name": "stderr"
        },
        {
          "output_type": "stream",
          "text": [
            "\n",
            "Test set: Average loss: 0.0063, Accuracy: 7356/10000 (73.56%)\n",
            "\n",
            "EPOCH: 2\n"
          ],
          "name": "stdout"
        },
        {
          "output_type": "stream",
          "text": [
            "Loss=0.8476018905639648 Batch_id=390 Accuracy=78.83: 100%|██████████| 391/391 [00:15<00:00, 25.04it/s]\n",
            "  0%|          | 0/391 [00:00<?, ?it/s]"
          ],
          "name": "stderr"
        },
        {
          "output_type": "stream",
          "text": [
            "\n",
            "Test set: Average loss: 0.0066, Accuracy: 7253/10000 (72.53%)\n",
            "\n",
            "EPOCH: 3\n"
          ],
          "name": "stdout"
        },
        {
          "output_type": "stream",
          "text": [
            "Loss=0.5515326261520386 Batch_id=390 Accuracy=79.89: 100%|██████████| 391/391 [00:15<00:00, 25.44it/s]\n",
            "  0%|          | 0/391 [00:00<?, ?it/s]"
          ],
          "name": "stderr"
        },
        {
          "output_type": "stream",
          "text": [
            "\n",
            "Test set: Average loss: 0.0065, Accuracy: 7260/10000 (72.60%)\n",
            "\n",
            "EPOCH: 4\n"
          ],
          "name": "stdout"
        },
        {
          "output_type": "stream",
          "text": [
            "Loss=0.6305211782455444 Batch_id=390 Accuracy=80.60: 100%|██████████| 391/391 [00:15<00:00, 25.06it/s]\n",
            "  0%|          | 0/391 [00:00<?, ?it/s]"
          ],
          "name": "stderr"
        },
        {
          "output_type": "stream",
          "text": [
            "\n",
            "Test set: Average loss: 0.0059, Accuracy: 7533/10000 (75.33%)\n",
            "\n",
            "EPOCH: 5\n"
          ],
          "name": "stdout"
        },
        {
          "output_type": "stream",
          "text": [
            "Loss=0.5213636159896851 Batch_id=390 Accuracy=81.56: 100%|██████████| 391/391 [00:15<00:00, 24.78it/s]\n",
            "  0%|          | 0/391 [00:00<?, ?it/s]"
          ],
          "name": "stderr"
        },
        {
          "output_type": "stream",
          "text": [
            "\n",
            "Test set: Average loss: 0.0058, Accuracy: 7588/10000 (75.88%)\n",
            "\n",
            "EPOCH: 6\n"
          ],
          "name": "stdout"
        },
        {
          "output_type": "stream",
          "text": [
            "Loss=0.6306399703025818 Batch_id=390 Accuracy=82.30: 100%|██████████| 391/391 [00:15<00:00, 25.10it/s]\n",
            "  0%|          | 0/391 [00:00<?, ?it/s]"
          ],
          "name": "stderr"
        },
        {
          "output_type": "stream",
          "text": [
            "\n",
            "Test set: Average loss: 0.0060, Accuracy: 7498/10000 (74.98%)\n",
            "\n",
            "EPOCH: 7\n"
          ],
          "name": "stdout"
        },
        {
          "output_type": "stream",
          "text": [
            "Loss=0.5090832710266113 Batch_id=390 Accuracy=83.21: 100%|██████████| 391/391 [00:15<00:00, 25.26it/s]\n",
            "  0%|          | 0/391 [00:00<?, ?it/s]"
          ],
          "name": "stderr"
        },
        {
          "output_type": "stream",
          "text": [
            "\n",
            "Test set: Average loss: 0.0056, Accuracy: 7659/10000 (76.59%)\n",
            "\n",
            "EPOCH: 8\n"
          ],
          "name": "stdout"
        },
        {
          "output_type": "stream",
          "text": [
            "Loss=0.5609327554702759 Batch_id=390 Accuracy=84.05: 100%|██████████| 391/391 [00:15<00:00, 25.04it/s]\n",
            "  0%|          | 0/391 [00:00<?, ?it/s]"
          ],
          "name": "stderr"
        },
        {
          "output_type": "stream",
          "text": [
            "\n",
            "Test set: Average loss: 0.0056, Accuracy: 7662/10000 (76.62%)\n",
            "\n",
            "EPOCH: 9\n"
          ],
          "name": "stdout"
        },
        {
          "output_type": "stream",
          "text": [
            "Loss=0.7657068371772766 Batch_id=390 Accuracy=84.50: 100%|██████████| 391/391 [00:15<00:00, 25.11it/s]\n",
            "  0%|          | 0/391 [00:00<?, ?it/s]"
          ],
          "name": "stderr"
        },
        {
          "output_type": "stream",
          "text": [
            "\n",
            "Test set: Average loss: 0.0053, Accuracy: 7841/10000 (78.41%)\n",
            "\n",
            "EPOCH: 10\n"
          ],
          "name": "stdout"
        },
        {
          "output_type": "stream",
          "text": [
            "Loss=0.6672551035881042 Batch_id=390 Accuracy=85.29: 100%|██████████| 391/391 [00:15<00:00, 25.58it/s]\n",
            "  0%|          | 0/391 [00:00<?, ?it/s]"
          ],
          "name": "stderr"
        },
        {
          "output_type": "stream",
          "text": [
            "\n",
            "Test set: Average loss: 0.0056, Accuracy: 7667/10000 (76.67%)\n",
            "\n",
            "EPOCH: 11\n"
          ],
          "name": "stdout"
        },
        {
          "output_type": "stream",
          "text": [
            "Loss=0.39719435572624207 Batch_id=390 Accuracy=85.60: 100%|██████████| 391/391 [00:15<00:00, 25.46it/s]\n",
            "  0%|          | 0/391 [00:00<?, ?it/s]"
          ],
          "name": "stderr"
        },
        {
          "output_type": "stream",
          "text": [
            "\n",
            "Test set: Average loss: 0.0058, Accuracy: 7567/10000 (75.67%)\n",
            "\n",
            "EPOCH: 12\n"
          ],
          "name": "stdout"
        },
        {
          "output_type": "stream",
          "text": [
            "Loss=0.5402244329452515 Batch_id=390 Accuracy=86.33: 100%|██████████| 391/391 [00:15<00:00, 25.17it/s]\n",
            "  0%|          | 0/391 [00:00<?, ?it/s]"
          ],
          "name": "stderr"
        },
        {
          "output_type": "stream",
          "text": [
            "\n",
            "Test set: Average loss: 0.0052, Accuracy: 7841/10000 (78.41%)\n",
            "\n",
            "EPOCH: 13\n"
          ],
          "name": "stdout"
        },
        {
          "output_type": "stream",
          "text": [
            "Loss=0.30461567640304565 Batch_id=390 Accuracy=86.96: 100%|██████████| 391/391 [00:15<00:00, 24.88it/s]\n",
            "  0%|          | 0/391 [00:00<?, ?it/s]"
          ],
          "name": "stderr"
        },
        {
          "output_type": "stream",
          "text": [
            "\n",
            "Test set: Average loss: 0.0060, Accuracy: 7579/10000 (75.79%)\n",
            "\n",
            "EPOCH: 14\n"
          ],
          "name": "stdout"
        },
        {
          "output_type": "stream",
          "text": [
            "Loss=0.3259746730327606 Batch_id=390 Accuracy=87.25: 100%|██████████| 391/391 [00:16<00:00, 23.67it/s]\n",
            "  0%|          | 0/391 [00:00<?, ?it/s]"
          ],
          "name": "stderr"
        },
        {
          "output_type": "stream",
          "text": [
            "\n",
            "Test set: Average loss: 0.0054, Accuracy: 7763/10000 (77.63%)\n",
            "\n",
            "EPOCH: 15\n"
          ],
          "name": "stdout"
        },
        {
          "output_type": "stream",
          "text": [
            "Loss=0.5014594793319702 Batch_id=390 Accuracy=87.80: 100%|██████████| 391/391 [00:17<00:00, 22.67it/s]\n",
            "  0%|          | 0/391 [00:00<?, ?it/s]"
          ],
          "name": "stderr"
        },
        {
          "output_type": "stream",
          "text": [
            "\n",
            "Test set: Average loss: 0.0055, Accuracy: 7765/10000 (77.65%)\n",
            "\n",
            "EPOCH: 16\n"
          ],
          "name": "stdout"
        },
        {
          "output_type": "stream",
          "text": [
            "Loss=0.6356569528579712 Batch_id=390 Accuracy=88.19: 100%|██████████| 391/391 [00:16<00:00, 24.21it/s]\n",
            "  0%|          | 0/391 [00:00<?, ?it/s]"
          ],
          "name": "stderr"
        },
        {
          "output_type": "stream",
          "text": [
            "\n",
            "Test set: Average loss: 0.0056, Accuracy: 7736/10000 (77.36%)\n",
            "\n",
            "EPOCH: 17\n"
          ],
          "name": "stdout"
        },
        {
          "output_type": "stream",
          "text": [
            "Loss=0.3841552436351776 Batch_id=390 Accuracy=88.67: 100%|██████████| 391/391 [00:16<00:00, 23.81it/s]\n",
            "  0%|          | 0/391 [00:00<?, ?it/s]"
          ],
          "name": "stderr"
        },
        {
          "output_type": "stream",
          "text": [
            "\n",
            "Test set: Average loss: 0.0051, Accuracy: 7912/10000 (79.12%)\n",
            "\n",
            "EPOCH: 18\n"
          ],
          "name": "stdout"
        },
        {
          "output_type": "stream",
          "text": [
            "Loss=0.3477545380592346 Batch_id=390 Accuracy=89.22: 100%|██████████| 391/391 [00:17<00:00, 22.77it/s]\n",
            "  0%|          | 0/391 [00:00<?, ?it/s]"
          ],
          "name": "stderr"
        },
        {
          "output_type": "stream",
          "text": [
            "\n",
            "Test set: Average loss: 0.0056, Accuracy: 7759/10000 (77.59%)\n",
            "\n",
            "EPOCH: 19\n"
          ],
          "name": "stdout"
        },
        {
          "output_type": "stream",
          "text": [
            "Loss=0.3134433627128601 Batch_id=390 Accuracy=89.54: 100%|██████████| 391/391 [00:16<00:00, 24.23it/s]\n",
            "  0%|          | 0/391 [00:00<?, ?it/s]"
          ],
          "name": "stderr"
        },
        {
          "output_type": "stream",
          "text": [
            "\n",
            "Test set: Average loss: 0.0056, Accuracy: 7775/10000 (77.75%)\n",
            "\n",
            "EPOCH: 20\n"
          ],
          "name": "stdout"
        },
        {
          "output_type": "stream",
          "text": [
            "Loss=0.350686639547348 Batch_id=390 Accuracy=89.95: 100%|██████████| 391/391 [00:16<00:00, 24.21it/s]\n"
          ],
          "name": "stderr"
        },
        {
          "output_type": "stream",
          "text": [
            "\n",
            "Test set: Average loss: 0.0055, Accuracy: 7836/10000 (78.36%)\n",
            "\n"
          ],
          "name": "stdout"
        }
      ]
    },
    {
      "cell_type": "code",
      "metadata": {
        "id": "7cL8eEwFL8RW",
        "colab_type": "code",
        "colab": {
          "base_uri": "https://localhost:8080/",
          "height": 172
        },
        "outputId": "2f4d2146-ca65-4114-a288-c0ad209cf302"
      },
      "source": [
        "evaluation.show_predicted_actual(model, device, test_loader, classes)"
      ],
      "execution_count": 13,
      "outputs": [
        {
          "output_type": "stream",
          "text": [
            "Clipping input data to the valid range for imshow with RGB data ([0..1] for floats or [0..255] for integers).\n"
          ],
          "name": "stderr"
        },
        {
          "output_type": "stream",
          "text": [
            "GroundTruth:   ship  frog   cat  ship  bird\n",
            "Predicted:   ship  frog  bird  ship  bird\n"
          ],
          "name": "stdout"
        },
        {
          "output_type": "display_data",
          "data": {
            "image/png": "[encoded data removed]",
            "text/plain": [
              "<Figure size 432x288 with 1 Axes>"
            ]
          },
          "metadata": {
            "tags": []
          }
        }
      ]
    },
    {
      "cell_type": "code",
      "metadata": {
        "id": "mJHi1W5TMFcv",
        "colab_type": "code",
        "colab": {
          "base_uri": "https://localhost:8080/",
          "height": 34
        },
        "outputId": "99446c61-886c-4d2f-93f1-9c95ef3aa88f"
      },
      "source": [
        "evaluation.evaluate_accuracy(model, device, test_loader)"
      ],
      "execution_count": 14,
      "outputs": [
        {
          "output_type": "stream",
          "text": [
            "Accuracy of the network on the 10000 test images: 78 %\n"
          ],
          "name": "stdout"
        }
      ]
    },
    {
      "cell_type": "code",
      "metadata": {
        "id": "HOMji-YWMM49",
        "colab_type": "code",
        "colab": {
          "base_uri": "https://localhost:8080/",
          "height": 187
        },
        "outputId": "b2c35f6a-ae45-43c9-d6b5-f555de656525"
      },
      "source": [
        "evaluation.evaluate_classwise_accuracy(model, device, classes, test_loader)"
      ],
      "execution_count": 15,
      "outputs": [
        {
          "output_type": "stream",
          "text": [
            "Accuracy of plane : 90 %\n",
            "Accuracy of   car : 86 %\n",
            "Accuracy of  bird : 60 %\n",
            "Accuracy of   cat : 69 %\n",
            "Accuracy of  deer : 97 %\n",
            "Accuracy of   dog : 41 %\n",
            "Accuracy of  frog : 77 %\n",
            "Accuracy of horse : 82 %\n",
            "Accuracy of  ship : 94 %\n",
            "Accuracy of truck : 84 %\n"
          ],
          "name": "stdout"
        }
      ]
    }
  ]
}